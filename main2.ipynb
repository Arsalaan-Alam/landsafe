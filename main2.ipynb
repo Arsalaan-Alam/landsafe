{
 "cells": [
  {
   "cell_type": "code",
   "execution_count": 31,
   "metadata": {},
   "outputs": [],
   "source": [
    "import random\n",
    "import pandas as pd\n",
    "import numpy as np\n",
    "from sklearn.utils import shuffle\n",
    "from sklearn.preprocessing import StandardScaler, OrdinalEncoder\n",
    "from sklearn.compose import ColumnTransformer\n",
    "from sklearn.pipeline import Pipeline\n",
    "from sklearn.model_selection import train_test_split\n",
    "from sklearn.svm import SVC\n",
    "from sklearn.metrics import classification_report, confusion_matrix, accuracy_score\n",
    "from sklearn.decomposition import PCA\n",
    "from tqdm import tqdm\n",
    "from sklearn.ensemble import RandomForestClassifier\n",
    "import warnings\n",
    "from tensorflow.keras.models import Sequential\n",
    "from tensorflow.keras.layers import Dense, LSTM, Bidirectional, BatchNormalization\n",
    "from tensorflow.keras.optimizers import Adam\n",
    "from tensorflow.keras import regularizers\n",
    "from tensorflow.keras.callbacks import EarlyStopping, ReduceLROnPlateau\n",
    "import tensorflow as tf"
   ]
  },
  {
   "cell_type": "code",
   "execution_count": 32,
   "metadata": {},
   "outputs": [
    {
     "data": {
      "text/plain": [
       "medium          5450\n",
       "small           2586\n",
       "unknown          827\n",
       "large            654\n",
       "...              357\n",
       "very_large       101\n",
       "Medium            72\n",
       "Unknown           19\n",
       "Large             17\n",
       "Small             10\n",
       "catastrophic       4\n",
       "landslide          2\n",
       "Very...large       1\n",
       "Very_large         1\n",
       "Name: severity, dtype: int64"
      ]
     },
     "metadata": {},
     "output_type": "display_data"
    }
   ],
   "source": [
    "df = pd.read_csv('glif.csv', low_memory=False)\n",
    "display(df['severity'].value_counts())\n",
    "df = shuffle(df)\n",
    "df.reset_index(inplace=True, drop=True)"
   ]
  },
  {
   "cell_type": "code",
   "execution_count": 47,
   "metadata": {},
   "outputs": [
    {
     "data": {
      "text/html": [
       "<div>\n",
       "<style scoped>\n",
       "    .dataframe tbody tr th:only-of-type {\n",
       "        vertical-align: middle;\n",
       "    }\n",
       "\n",
       "    .dataframe tbody tr th {\n",
       "        vertical-align: top;\n",
       "    }\n",
       "\n",
       "    .dataframe thead th {\n",
       "        text-align: right;\n",
       "    }\n",
       "</style>\n",
       "<table border=\"1\" class=\"dataframe\">\n",
       "  <thead>\n",
       "    <tr style=\"text-align: right;\">\n",
       "      <th></th>\n",
       "      <th>humidity9</th>\n",
       "      <th>ARI9</th>\n",
       "      <th>humidity8</th>\n",
       "      <th>ARI8</th>\n",
       "      <th>humidity7</th>\n",
       "      <th>ARI7</th>\n",
       "      <th>humidity6</th>\n",
       "      <th>ARI6</th>\n",
       "      <th>humidity5</th>\n",
       "      <th>ARI5</th>\n",
       "      <th>humidity4</th>\n",
       "      <th>ARI4</th>\n",
       "      <th>humidity3</th>\n",
       "      <th>ARI3</th>\n",
       "    </tr>\n",
       "  </thead>\n",
       "  <tbody>\n",
       "    <tr>\n",
       "      <th>0</th>\n",
       "      <td>98</td>\n",
       "      <td>9.565362</td>\n",
       "      <td>94</td>\n",
       "      <td>8.108770</td>\n",
       "      <td>95</td>\n",
       "      <td>15.872238</td>\n",
       "      <td>95</td>\n",
       "      <td>16.452481</td>\n",
       "      <td>95</td>\n",
       "      <td>27.002122</td>\n",
       "      <td>96</td>\n",
       "      <td>36.975012</td>\n",
       "      <td>94</td>\n",
       "      <td>25.885112</td>\n",
       "    </tr>\n",
       "    <tr>\n",
       "      <th>1</th>\n",
       "      <td>81</td>\n",
       "      <td>12.814514</td>\n",
       "      <td>83</td>\n",
       "      <td>32.001318</td>\n",
       "      <td>83</td>\n",
       "      <td>14.033536</td>\n",
       "      <td>79</td>\n",
       "      <td>6.965677</td>\n",
       "      <td>80</td>\n",
       "      <td>7.322957</td>\n",
       "      <td>83</td>\n",
       "      <td>2.992925</td>\n",
       "      <td>84</td>\n",
       "      <td>3.252882</td>\n",
       "    </tr>\n",
       "    <tr>\n",
       "      <th>2</th>\n",
       "      <td>81</td>\n",
       "      <td>5.503346</td>\n",
       "      <td>83</td>\n",
       "      <td>2.996002</td>\n",
       "      <td>90</td>\n",
       "      <td>1.894457</td>\n",
       "      <td>67</td>\n",
       "      <td>1.298533</td>\n",
       "      <td>78</td>\n",
       "      <td>1.141331</td>\n",
       "      <td>88</td>\n",
       "      <td>1.419411</td>\n",
       "      <td>82</td>\n",
       "      <td>1.678410</td>\n",
       "    </tr>\n",
       "    <tr>\n",
       "      <th>3</th>\n",
       "      <td>96</td>\n",
       "      <td>1.420660</td>\n",
       "      <td>99</td>\n",
       "      <td>11.207192</td>\n",
       "      <td>100</td>\n",
       "      <td>10.520931</td>\n",
       "      <td>100</td>\n",
       "      <td>7.179617</td>\n",
       "      <td>99</td>\n",
       "      <td>7.056815</td>\n",
       "      <td>91</td>\n",
       "      <td>2.512915</td>\n",
       "      <td>100</td>\n",
       "      <td>11.144311</td>\n",
       "    </tr>\n",
       "    <tr>\n",
       "      <th>4</th>\n",
       "      <td>100</td>\n",
       "      <td>0.396879</td>\n",
       "      <td>92</td>\n",
       "      <td>0.099220</td>\n",
       "      <td>74</td>\n",
       "      <td>0.044098</td>\n",
       "      <td>98</td>\n",
       "      <td>1.546173</td>\n",
       "      <td>98</td>\n",
       "      <td>6.613983</td>\n",
       "      <td>99</td>\n",
       "      <td>13.111695</td>\n",
       "      <td>99</td>\n",
       "      <td>25.863550</td>\n",
       "    </tr>\n",
       "    <tr>\n",
       "      <th>...</th>\n",
       "      <td>...</td>\n",
       "      <td>...</td>\n",
       "      <td>...</td>\n",
       "      <td>...</td>\n",
       "      <td>...</td>\n",
       "      <td>...</td>\n",
       "      <td>...</td>\n",
       "      <td>...</td>\n",
       "      <td>...</td>\n",
       "      <td>...</td>\n",
       "      <td>...</td>\n",
       "      <td>...</td>\n",
       "      <td>...</td>\n",
       "      <td>...</td>\n",
       "    </tr>\n",
       "    <tr>\n",
       "      <th>20103</th>\n",
       "      <td>98</td>\n",
       "      <td>4.446825</td>\n",
       "      <td>97</td>\n",
       "      <td>2.355727</td>\n",
       "      <td>97</td>\n",
       "      <td>6.217687</td>\n",
       "      <td>98</td>\n",
       "      <td>2.190778</td>\n",
       "      <td>97</td>\n",
       "      <td>1.372998</td>\n",
       "      <td>92</td>\n",
       "      <td>0.437573</td>\n",
       "      <td>94</td>\n",
       "      <td>5.006108</td>\n",
       "    </tr>\n",
       "    <tr>\n",
       "      <th>20104</th>\n",
       "      <td>55</td>\n",
       "      <td>0.621639</td>\n",
       "      <td>76</td>\n",
       "      <td>7.680525</td>\n",
       "      <td>82</td>\n",
       "      <td>11.454134</td>\n",
       "      <td>73</td>\n",
       "      <td>3.204428</td>\n",
       "      <td>83</td>\n",
       "      <td>3.571908</td>\n",
       "      <td>92</td>\n",
       "      <td>3.587122</td>\n",
       "      <td>81</td>\n",
       "      <td>3.278585</td>\n",
       "    </tr>\n",
       "    <tr>\n",
       "      <th>20105</th>\n",
       "      <td>90</td>\n",
       "      <td>2.819626</td>\n",
       "      <td>95</td>\n",
       "      <td>2.735052</td>\n",
       "      <td>95</td>\n",
       "      <td>1.983386</td>\n",
       "      <td>92</td>\n",
       "      <td>3.109701</td>\n",
       "      <td>89</td>\n",
       "      <td>3.539109</td>\n",
       "      <td>93</td>\n",
       "      <td>5.622527</td>\n",
       "      <td>97</td>\n",
       "      <td>10.418326</td>\n",
       "    </tr>\n",
       "    <tr>\n",
       "      <th>20106</th>\n",
       "      <td>38</td>\n",
       "      <td>0.000000</td>\n",
       "      <td>35</td>\n",
       "      <td>0.000000</td>\n",
       "      <td>45</td>\n",
       "      <td>0.000000</td>\n",
       "      <td>36</td>\n",
       "      <td>0.000000</td>\n",
       "      <td>33</td>\n",
       "      <td>0.000000</td>\n",
       "      <td>30</td>\n",
       "      <td>0.000000</td>\n",
       "      <td>29</td>\n",
       "      <td>0.000000</td>\n",
       "    </tr>\n",
       "    <tr>\n",
       "      <th>20107</th>\n",
       "      <td>95</td>\n",
       "      <td>12.698234</td>\n",
       "      <td>98</td>\n",
       "      <td>8.289694</td>\n",
       "      <td>98</td>\n",
       "      <td>12.779649</td>\n",
       "      <td>92</td>\n",
       "      <td>4.149664</td>\n",
       "      <td>97</td>\n",
       "      <td>24.794362</td>\n",
       "      <td>96</td>\n",
       "      <td>9.242228</td>\n",
       "      <td>99</td>\n",
       "      <td>20.163532</td>\n",
       "    </tr>\n",
       "  </tbody>\n",
       "</table>\n",
       "<p>20108 rows × 14 columns</p>\n",
       "</div>"
      ],
      "text/plain": [
       "       humidity9       ARI9  humidity8       ARI8  humidity7       ARI7  \\\n",
       "0             98   9.565362         94   8.108770         95  15.872238   \n",
       "1             81  12.814514         83  32.001318         83  14.033536   \n",
       "2             81   5.503346         83   2.996002         90   1.894457   \n",
       "3             96   1.420660         99  11.207192        100  10.520931   \n",
       "4            100   0.396879         92   0.099220         74   0.044098   \n",
       "...          ...        ...        ...        ...        ...        ...   \n",
       "20103         98   4.446825         97   2.355727         97   6.217687   \n",
       "20104         55   0.621639         76   7.680525         82  11.454134   \n",
       "20105         90   2.819626         95   2.735052         95   1.983386   \n",
       "20106         38   0.000000         35   0.000000         45   0.000000   \n",
       "20107         95  12.698234         98   8.289694         98  12.779649   \n",
       "\n",
       "       humidity6       ARI6  humidity5       ARI5  humidity4       ARI4  \\\n",
       "0             95  16.452481         95  27.002122         96  36.975012   \n",
       "1             79   6.965677         80   7.322957         83   2.992925   \n",
       "2             67   1.298533         78   1.141331         88   1.419411   \n",
       "3            100   7.179617         99   7.056815         91   2.512915   \n",
       "4             98   1.546173         98   6.613983         99  13.111695   \n",
       "...          ...        ...        ...        ...        ...        ...   \n",
       "20103         98   2.190778         97   1.372998         92   0.437573   \n",
       "20104         73   3.204428         83   3.571908         92   3.587122   \n",
       "20105         92   3.109701         89   3.539109         93   5.622527   \n",
       "20106         36   0.000000         33   0.000000         30   0.000000   \n",
       "20107         92   4.149664         97  24.794362         96   9.242228   \n",
       "\n",
       "       humidity3       ARI3  \n",
       "0             94  25.885112  \n",
       "1             84   3.252882  \n",
       "2             82   1.678410  \n",
       "3            100  11.144311  \n",
       "4             99  25.863550  \n",
       "...          ...        ...  \n",
       "20103         94   5.006108  \n",
       "20104         81   3.278585  \n",
       "20105         97  10.418326  \n",
       "20106         29   0.000000  \n",
       "20107         99  20.163532  \n",
       "\n",
       "[20108 rows x 14 columns]"
      ]
     },
     "execution_count": 47,
     "metadata": {},
     "output_type": "execute_result"
    }
   ],
   "source": [
    "\n",
    "X = df.copy()\n",
    "y = X.landslide\n",
    "columns=[]\n",
    "for i in range(9, 2, -1):\n",
    "    columns.append('humidity' + str(i))\n",
    "    columns.append('ARI' + str(i))\n",
    "    # columns.append('wind' + str(i))\n",
    "X = X[columns]\n",
    "for i in range(9, 2, -1):\n",
    "    X['ARI' + str(i)] = X['ARI' + str(i)].apply(float)\n",
    "X\n",
    "\n"
   ]
  },
  {
   "cell_type": "code",
   "execution_count": 48,
   "metadata": {},
   "outputs": [
    {
     "data": {
      "text/plain": [
       "(['humidity9',\n",
       "  'ARI9',\n",
       "  'humidity8',\n",
       "  'ARI8',\n",
       "  'humidity7',\n",
       "  'ARI7',\n",
       "  'humidity6',\n",
       "  'ARI6',\n",
       "  'humidity5',\n",
       "  'ARI5',\n",
       "  'humidity4',\n",
       "  'ARI4',\n",
       "  'humidity3',\n",
       "  'ARI3'],\n",
       " 14)"
      ]
     },
     "execution_count": 48,
     "metadata": {},
     "output_type": "execute_result"
    }
   ],
   "source": [
    "columns, len(columns)"
   ]
  },
  {
   "cell_type": "code",
   "execution_count": 49,
   "metadata": {},
   "outputs": [
    {
     "data": {
      "text/plain": [
       "1    10101\n",
       "0    10007\n",
       "Name: landslide, dtype: int64"
      ]
     },
     "execution_count": 49,
     "metadata": {},
     "output_type": "execute_result"
    }
   ],
   "source": [
    "\n",
    "y.value_counts()\n"
   ]
  },
  {
   "cell_type": "code",
   "execution_count": 50,
   "metadata": {},
   "outputs": [
    {
     "data": {
      "text/plain": [
       "array([7.20000000e+01, 9.77347468e-01, 8.30000000e+01, 2.31512556e-01,\n",
       "       8.50000000e+01, 1.02894469e-01, 6.20000000e+01, 5.78781390e-02,\n",
       "       7.20000000e+01, 3.70420090e-02, 8.20000000e+01, 2.57236170e-02,\n",
       "       7.70000000e+01, 1.88989840e-02])"
      ]
     },
     "execution_count": 50,
     "metadata": {},
     "output_type": "execute_result"
    }
   ],
   "source": [
    "\n",
    "from sklearn.model_selection import train_test_split\n",
    "from sklearn.preprocessing import StandardScaler\n",
    "X_train, X_test, y_train, y_test = train_test_split(X, y, test_size = 0.2)\n",
    "\n",
    "# scaler = StandardScaler()\n",
    "# scaler.fit(X_train)\n",
    "\n",
    "# X_train = scaler.transform(X_train)\n",
    "# X_test = scaler.transform(X_test)\n",
    "X_train = np.array(X_train)\n",
    "X_test = np.array(X_test)\n",
    "X_train[0]\n"
   ]
  },
  {
   "cell_type": "code",
   "execution_count": 51,
   "metadata": {},
   "outputs": [
    {
     "data": {
      "text/plain": [
       "16086"
      ]
     },
     "execution_count": 51,
     "metadata": {},
     "output_type": "execute_result"
    }
   ],
   "source": [
    "len(X_train)"
   ]
  },
  {
   "cell_type": "code",
   "execution_count": 52,
   "metadata": {},
   "outputs": [
    {
     "data": {
      "text/plain": [
       "(14,)"
      ]
     },
     "execution_count": 52,
     "metadata": {},
     "output_type": "execute_result"
    }
   ],
   "source": [
    "X_train[0].shape"
   ]
  },
  {
   "cell_type": "code",
   "execution_count": 54,
   "metadata": {},
   "outputs": [
    {
     "name": "stdout",
     "output_type": "stream",
     "text": [
      "(16086, 7, 2)\n"
     ]
    },
    {
     "data": {
      "text/plain": [
       "array([[7.20000000e+01, 9.77347468e-01],\n",
       "       [8.30000000e+01, 2.31512556e-01],\n",
       "       [8.50000000e+01, 1.02894469e-01],\n",
       "       [6.20000000e+01, 5.78781390e-02],\n",
       "       [7.20000000e+01, 3.70420090e-02],\n",
       "       [8.20000000e+01, 2.57236170e-02],\n",
       "       [7.70000000e+01, 1.88989840e-02]])"
      ]
     },
     "execution_count": 54,
     "metadata": {},
     "output_type": "execute_result"
    }
   ],
   "source": [
    "y_train = np.array(y_train)\n",
    "y_test = np.array(y_test)\n",
    "# len(X_train) # of batches\n",
    "# 5 timesteps (days 7 - 3)\n",
    "# 2 features per timestep\n",
    "X_train=X_train.reshape((len(X_train), 7, 2))\n",
    "X_test=X_test.reshape((len(X_test), 7, 2))\n",
    "\n",
    "print(X_train.shape)\n",
    "X_train[0]\n"
   ]
  },
  {
   "cell_type": "code",
   "execution_count": 62,
   "metadata": {},
   "outputs": [
    {
     "name": "stdout",
     "output_type": "stream",
     "text": [
      "Epoch 1/20\n",
      "252/252 - 3s - 11ms/step - accuracy: 0.6639 - loss: 0.6161\n",
      "Epoch 2/20\n",
      "252/252 - 1s - 5ms/step - accuracy: 0.6789 - loss: 0.5980\n",
      "Epoch 3/20\n",
      "252/252 - 1s - 4ms/step - accuracy: 0.6776 - loss: 0.5969\n",
      "Epoch 4/20\n",
      "252/252 - 1s - 4ms/step - accuracy: 0.6798 - loss: 0.5953\n",
      "Epoch 5/20\n",
      "252/252 - 1s - 4ms/step - accuracy: 0.6829 - loss: 0.5940\n",
      "Epoch 6/20\n",
      "252/252 - 1s - 4ms/step - accuracy: 0.6817 - loss: 0.5934\n",
      "Epoch 7/20\n",
      "252/252 - 1s - 4ms/step - accuracy: 0.6838 - loss: 0.5928\n",
      "Epoch 8/20\n",
      "252/252 - 1s - 4ms/step - accuracy: 0.6833 - loss: 0.5911\n",
      "Epoch 9/20\n",
      "252/252 - 1s - 5ms/step - accuracy: 0.6826 - loss: 0.5924\n",
      "Epoch 10/20\n",
      "252/252 - 1s - 4ms/step - accuracy: 0.6868 - loss: 0.5899\n",
      "Epoch 11/20\n",
      "252/252 - 1s - 4ms/step - accuracy: 0.6891 - loss: 0.5876\n",
      "Epoch 12/20\n",
      "252/252 - 1s - 4ms/step - accuracy: 0.6896 - loss: 0.5875\n",
      "Epoch 13/20\n",
      "252/252 - 1s - 4ms/step - accuracy: 0.6903 - loss: 0.5850\n",
      "Epoch 14/20\n",
      "252/252 - 1s - 4ms/step - accuracy: 0.6944 - loss: 0.5828\n",
      "Epoch 15/20\n",
      "252/252 - 1s - 5ms/step - accuracy: 0.6982 - loss: 0.5802\n",
      "Epoch 16/20\n",
      "252/252 - 1s - 5ms/step - accuracy: 0.6971 - loss: 0.5798\n",
      "Epoch 17/20\n",
      "252/252 - 1s - 5ms/step - accuracy: 0.6998 - loss: 0.5774\n",
      "Epoch 18/20\n",
      "252/252 - 1s - 5ms/step - accuracy: 0.7026 - loss: 0.5768\n",
      "Epoch 19/20\n",
      "252/252 - 1s - 5ms/step - accuracy: 0.7043 - loss: 0.5754\n",
      "Epoch 20/20\n",
      "252/252 - 1s - 4ms/step - accuracy: 0.7051 - loss: 0.5731\n"
     ]
    },
    {
     "data": {
      "text/plain": [
       "<keras.src.callbacks.history.History at 0x322828a90>"
      ]
     },
     "execution_count": 62,
     "metadata": {},
     "output_type": "execute_result"
    }
   ],
   "source": [
    "# Create a more robust model with increased capacity\n",
    "model = Sequential()\n",
    "# Increase LSTM units for better feature extraction\n",
    "model.add(Bidirectional(LSTM(32, return_sequences=True)))\n",
    "model.add(Bidirectional(LSTM(16)))\n",
    "# Add dropout to prevent overfitting\n",
    "model.add(Dropout(0.2))\n",
    "# Add a hidden dense layer\n",
    "model.add(Dense(8, activation='relu'))\n",
    "model.add(Dense(1, activation='sigmoid'))\n",
    "# Use same compilation settings\n",
    "model.compile(loss='binary_crossentropy', optimizer='adam', metrics=[\"accuracy\"])\n",
    "# Increase batch size for faster training\n",
    "model.fit(X_train, y_train, epochs=20, batch_size=64, verbose=2)"
   ]
  },
  {
   "cell_type": "code",
   "execution_count": 63,
   "metadata": {},
   "outputs": [
    {
     "name": "stdout",
     "output_type": "stream",
     "text": [
      "\u001b[1m126/126\u001b[0m \u001b[32m━━━━━━━━━━━━━━━━━━━━\u001b[0m\u001b[37m\u001b[0m \u001b[1m0s\u001b[0m 973us/step - accuracy: 0.7149 - loss: 0.5660\n"
     ]
    },
    {
     "data": {
      "text/plain": [
       "{'accuracy': 0.7125808000564575, 'loss': 0.5648311376571655}"
      ]
     },
     "execution_count": 63,
     "metadata": {},
     "output_type": "execute_result"
    }
   ],
   "source": [
    "model.evaluate(X_test, y_test, return_dict=True)"
   ]
  },
  {
   "cell_type": "code",
   "execution_count": 64,
   "metadata": {},
   "outputs": [
    {
     "name": "stdout",
     "output_type": "stream",
     "text": [
      "\u001b[1m126/126\u001b[0m \u001b[32m━━━━━━━━━━━━━━━━━━━━\u001b[0m\u001b[37m\u001b[0m \u001b[1m0s\u001b[0m 2ms/step\n",
      "Classification Report:\n",
      "              precision    recall  f1-score   support\n",
      "\n",
      "           0       0.70      0.74      0.72      2003\n",
      "           1       0.73      0.68      0.70      2019\n",
      "\n",
      "    accuracy                           0.71      4022\n",
      "   macro avg       0.71      0.71      0.71      4022\n",
      "weighted avg       0.71      0.71      0.71      4022\n",
      "\n",
      "\n",
      "Individual Metrics:\n",
      "Precision: 0.7284\n",
      "Recall: 0.6815\n",
      "F1 Score: 0.7042\n",
      "Accuracy: 0.7126\n",
      "\n",
      "Confusion Matrix:\n",
      "[[1490  513]\n",
      " [ 643 1376]]\n",
      "\n",
      "Format: [[TN, FP], [FN, TP]]\n"
     ]
    }
   ],
   "source": [
    "# Calculate precision, recall, F1 score, and confusion matrix\n",
    "import numpy as np\n",
    "from sklearn.metrics import classification_report, confusion_matrix, precision_score, recall_score, f1_score, accuracy_score\n",
    "\n",
    "# Get predictions (probabilities)\n",
    "y_pred_prob = model.predict(X_test)\n",
    "\n",
    "# Convert probabilities to binary predictions using 0.5 threshold\n",
    "y_pred = (y_pred_prob > 0.5).astype(int)\n",
    "\n",
    "# Print detailed classification report\n",
    "print(\"Classification Report:\")\n",
    "print(classification_report(y_test, y_pred))\n",
    "\n",
    "# Calculate individual metrics\n",
    "precision = precision_score(y_test, y_pred)\n",
    "recall = recall_score(y_test, y_pred)\n",
    "f1 = f1_score(y_test, y_pred)\n",
    "accuracy = accuracy_score(y_test, y_pred)\n",
    "\n",
    "print(\"\\nIndividual Metrics:\")\n",
    "print(f\"Precision: {precision:.4f}\")\n",
    "print(f\"Recall: {recall:.4f}\")\n",
    "print(f\"F1 Score: {f1:.4f}\")\n",
    "print(f\"Accuracy: {accuracy:.4f}\")\n",
    "\n",
    "# Display confusion matrix\n",
    "cm = confusion_matrix(y_test, y_pred)\n",
    "print(\"\\nConfusion Matrix:\")\n",
    "print(cm)\n",
    "print(\"\\nFormat: [[TN, FP], [FN, TP]]\")\n"
   ]
  },
  {
   "cell_type": "code",
   "execution_count": null,
   "metadata": {},
   "outputs": [],
   "source": []
  }
 ],
 "metadata": {
  "kernelspec": {
   "display_name": "basicML",
   "language": "python",
   "name": "python3"
  },
  "language_info": {
   "codemirror_mode": {
    "name": "ipython",
    "version": 3
   },
   "file_extension": ".py",
   "mimetype": "text/x-python",
   "name": "python",
   "nbconvert_exporter": "python",
   "pygments_lexer": "ipython3",
   "version": "3.10.13"
  }
 },
 "nbformat": 4,
 "nbformat_minor": 2
}
