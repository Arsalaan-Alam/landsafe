{
 "cells": [
  {
   "cell_type": "code",
   "execution_count": 4,
   "metadata": {},
   "outputs": [],
   "source": [
    "import random\n",
    "import pandas as pd\n",
    "import numpy as np\n",
    "from sklearn.utils import shuffle\n",
    "from sklearn.preprocessing import StandardScaler, OrdinalEncoder\n",
    "from sklearn.compose import ColumnTransformer\n",
    "from sklearn.pipeline import Pipeline\n",
    "from sklearn.model_selection import train_test_split\n",
    "from sklearn.svm import SVC\n",
    "from sklearn.metrics import classification_report, confusion_matrix, accuracy_score\n",
    "from sklearn.decomposition import PCA\n",
    "from tqdm import tqdm\n",
    "from sklearn.ensemble import RandomForestClassifier\n",
    "import warnings\n",
    "from tensorflow.keras.models import Sequential\n",
    "from tensorflow.keras.layers import Dense, LSTM, Bidirectional, BatchNormalization\n",
    "from tensorflow.keras.optimizers import Adam\n",
    "from tensorflow.keras import regularizers\n",
    "from tensorflow.keras.callbacks import EarlyStopping, ReduceLROnPlateau\n",
    "import tensorflow as tf"
   ]
  },
  {
   "cell_type": "code",
   "execution_count": 5,
   "metadata": {},
   "outputs": [
    {
     "data": {
      "text/plain": [
       "severity\n",
       "medium          5450\n",
       "small           2586\n",
       "unknown          827\n",
       "large            654\n",
       "...              357\n",
       "very_large       101\n",
       "Medium            72\n",
       "Unknown           19\n",
       "Large             17\n",
       "Small             10\n",
       "catastrophic       4\n",
       "landslide          2\n",
       "Very...large       1\n",
       "Very_large         1\n",
       "Name: count, dtype: int64"
      ]
     },
     "metadata": {},
     "output_type": "display_data"
    }
   ],
   "source": [
    "df = pd.read_csv('GLIF dataset (1).csv', low_memory=False)\n",
    "display(df['severity'].value_counts())\n",
    "df = shuffle(df)\n",
    "df.reset_index(inplace=True, drop=True)"
   ]
  },
  {
   "cell_type": "code",
   "execution_count": 6,
   "metadata": {},
   "outputs": [
    {
     "data": {
      "text/html": [
       "<div>\n",
       "<style scoped>\n",
       "    .dataframe tbody tr th:only-of-type {\n",
       "        vertical-align: middle;\n",
       "    }\n",
       "\n",
       "    .dataframe tbody tr th {\n",
       "        vertical-align: top;\n",
       "    }\n",
       "\n",
       "    .dataframe thead th {\n",
       "        text-align: right;\n",
       "    }\n",
       "</style>\n",
       "<table border=\"1\" class=\"dataframe\">\n",
       "  <thead>\n",
       "    <tr style=\"text-align: right;\">\n",
       "      <th></th>\n",
       "      <th>humidity9</th>\n",
       "      <th>ARI9</th>\n",
       "      <th>humidity8</th>\n",
       "      <th>ARI8</th>\n",
       "      <th>humidity7</th>\n",
       "      <th>ARI7</th>\n",
       "      <th>humidity6</th>\n",
       "      <th>ARI6</th>\n",
       "      <th>humidity5</th>\n",
       "      <th>ARI5</th>\n",
       "      <th>humidity4</th>\n",
       "      <th>ARI4</th>\n",
       "      <th>humidity3</th>\n",
       "      <th>ARI3</th>\n",
       "    </tr>\n",
       "  </thead>\n",
       "  <tbody>\n",
       "    <tr>\n",
       "      <th>0</th>\n",
       "      <td>83</td>\n",
       "      <td>3.168936</td>\n",
       "      <td>81</td>\n",
       "      <td>1.951982</td>\n",
       "      <td>87</td>\n",
       "      <td>1.881104</td>\n",
       "      <td>86</td>\n",
       "      <td>0.506835</td>\n",
       "      <td>80</td>\n",
       "      <td>0.161354</td>\n",
       "      <td>69</td>\n",
       "      <td>0.096520</td>\n",
       "      <td>98</td>\n",
       "      <td>7.694154</td>\n",
       "    </tr>\n",
       "    <tr>\n",
       "      <th>1</th>\n",
       "      <td>96</td>\n",
       "      <td>0.000000</td>\n",
       "      <td>98</td>\n",
       "      <td>0.000000</td>\n",
       "      <td>97</td>\n",
       "      <td>0.000000</td>\n",
       "      <td>99</td>\n",
       "      <td>0.000000</td>\n",
       "      <td>100</td>\n",
       "      <td>0.000000</td>\n",
       "      <td>97</td>\n",
       "      <td>0.000000</td>\n",
       "      <td>96</td>\n",
       "      <td>0.000000</td>\n",
       "    </tr>\n",
       "    <tr>\n",
       "      <th>2</th>\n",
       "      <td>81</td>\n",
       "      <td>3.899664</td>\n",
       "      <td>82</td>\n",
       "      <td>13.202904</td>\n",
       "      <td>83</td>\n",
       "      <td>9.537894</td>\n",
       "      <td>83</td>\n",
       "      <td>6.238562</td>\n",
       "      <td>94</td>\n",
       "      <td>7.603534</td>\n",
       "      <td>97</td>\n",
       "      <td>5.412976</td>\n",
       "      <td>98</td>\n",
       "      <td>11.647651</td>\n",
       "    </tr>\n",
       "    <tr>\n",
       "      <th>3</th>\n",
       "      <td>88</td>\n",
       "      <td>3.213674</td>\n",
       "      <td>68</td>\n",
       "      <td>1.920537</td>\n",
       "      <td>92</td>\n",
       "      <td>5.646332</td>\n",
       "      <td>95</td>\n",
       "      <td>44.401469</td>\n",
       "      <td>92</td>\n",
       "      <td>21.932705</td>\n",
       "      <td>87</td>\n",
       "      <td>9.438918</td>\n",
       "      <td>92</td>\n",
       "      <td>23.445983</td>\n",
       "    </tr>\n",
       "    <tr>\n",
       "      <th>4</th>\n",
       "      <td>58</td>\n",
       "      <td>0.606140</td>\n",
       "      <td>87</td>\n",
       "      <td>0.380326</td>\n",
       "      <td>97</td>\n",
       "      <td>6.140801</td>\n",
       "      <td>98</td>\n",
       "      <td>15.191881</td>\n",
       "      <td>97</td>\n",
       "      <td>6.609132</td>\n",
       "      <td>92</td>\n",
       "      <td>7.095303</td>\n",
       "      <td>91</td>\n",
       "      <td>3.371466</td>\n",
       "    </tr>\n",
       "    <tr>\n",
       "      <th>...</th>\n",
       "      <td>...</td>\n",
       "      <td>...</td>\n",
       "      <td>...</td>\n",
       "      <td>...</td>\n",
       "      <td>...</td>\n",
       "      <td>...</td>\n",
       "      <td>...</td>\n",
       "      <td>...</td>\n",
       "      <td>...</td>\n",
       "      <td>...</td>\n",
       "      <td>...</td>\n",
       "      <td>...</td>\n",
       "      <td>...</td>\n",
       "      <td>...</td>\n",
       "    </tr>\n",
       "    <tr>\n",
       "      <th>20103</th>\n",
       "      <td>55</td>\n",
       "      <td>0.455124</td>\n",
       "      <td>39</td>\n",
       "      <td>0.268646</td>\n",
       "      <td>41</td>\n",
       "      <td>0.177701</td>\n",
       "      <td>86</td>\n",
       "      <td>7.463486</td>\n",
       "      <td>92</td>\n",
       "      <td>44.555368</td>\n",
       "      <td>82</td>\n",
       "      <td>25.041942</td>\n",
       "      <td>76</td>\n",
       "      <td>22.281705</td>\n",
       "    </tr>\n",
       "    <tr>\n",
       "      <th>20104</th>\n",
       "      <td>83</td>\n",
       "      <td>4.037510</td>\n",
       "      <td>83</td>\n",
       "      <td>2.758766</td>\n",
       "      <td>84</td>\n",
       "      <td>10.426535</td>\n",
       "      <td>88</td>\n",
       "      <td>55.569273</td>\n",
       "      <td>89</td>\n",
       "      <td>171.916317</td>\n",
       "      <td>87</td>\n",
       "      <td>54.238654</td>\n",
       "      <td>85</td>\n",
       "      <td>43.443317</td>\n",
       "    </tr>\n",
       "    <tr>\n",
       "      <th>20105</th>\n",
       "      <td>98</td>\n",
       "      <td>5.346890</td>\n",
       "      <td>98</td>\n",
       "      <td>6.276276</td>\n",
       "      <td>98</td>\n",
       "      <td>7.951696</td>\n",
       "      <td>98</td>\n",
       "      <td>2.849562</td>\n",
       "      <td>97</td>\n",
       "      <td>3.410040</td>\n",
       "      <td>98</td>\n",
       "      <td>7.586011</td>\n",
       "      <td>97</td>\n",
       "      <td>2.148039</td>\n",
       "    </tr>\n",
       "    <tr>\n",
       "      <th>20106</th>\n",
       "      <td>96</td>\n",
       "      <td>0.714787</td>\n",
       "      <td>91</td>\n",
       "      <td>0.338082</td>\n",
       "      <td>95</td>\n",
       "      <td>11.378107</td>\n",
       "      <td>98</td>\n",
       "      <td>8.904781</td>\n",
       "      <td>99</td>\n",
       "      <td>7.035446</td>\n",
       "      <td>82</td>\n",
       "      <td>2.794186</td>\n",
       "      <td>71</td>\n",
       "      <td>1.393536</td>\n",
       "    </tr>\n",
       "    <tr>\n",
       "      <th>20107</th>\n",
       "      <td>99</td>\n",
       "      <td>9.958565</td>\n",
       "      <td>99</td>\n",
       "      <td>9.787243</td>\n",
       "      <td>99</td>\n",
       "      <td>19.357457</td>\n",
       "      <td>99</td>\n",
       "      <td>33.171944</td>\n",
       "      <td>99</td>\n",
       "      <td>14.031955</td>\n",
       "      <td>99</td>\n",
       "      <td>41.303302</td>\n",
       "      <td>99</td>\n",
       "      <td>28.807342</td>\n",
       "    </tr>\n",
       "  </tbody>\n",
       "</table>\n",
       "<p>20108 rows × 14 columns</p>\n",
       "</div>"
      ],
      "text/plain": [
       "       humidity9      ARI9  humidity8       ARI8  humidity7       ARI7  \\\n",
       "0             83  3.168936         81   1.951982         87   1.881104   \n",
       "1             96  0.000000         98   0.000000         97   0.000000   \n",
       "2             81  3.899664         82  13.202904         83   9.537894   \n",
       "3             88  3.213674         68   1.920537         92   5.646332   \n",
       "4             58  0.606140         87   0.380326         97   6.140801   \n",
       "...          ...       ...        ...        ...        ...        ...   \n",
       "20103         55  0.455124         39   0.268646         41   0.177701   \n",
       "20104         83  4.037510         83   2.758766         84  10.426535   \n",
       "20105         98  5.346890         98   6.276276         98   7.951696   \n",
       "20106         96  0.714787         91   0.338082         95  11.378107   \n",
       "20107         99  9.958565         99   9.787243         99  19.357457   \n",
       "\n",
       "       humidity6       ARI6  humidity5        ARI5  humidity4       ARI4  \\\n",
       "0             86   0.506835         80    0.161354         69   0.096520   \n",
       "1             99   0.000000        100    0.000000         97   0.000000   \n",
       "2             83   6.238562         94    7.603534         97   5.412976   \n",
       "3             95  44.401469         92   21.932705         87   9.438918   \n",
       "4             98  15.191881         97    6.609132         92   7.095303   \n",
       "...          ...        ...        ...         ...        ...        ...   \n",
       "20103         86   7.463486         92   44.555368         82  25.041942   \n",
       "20104         88  55.569273         89  171.916317         87  54.238654   \n",
       "20105         98   2.849562         97    3.410040         98   7.586011   \n",
       "20106         98   8.904781         99    7.035446         82   2.794186   \n",
       "20107         99  33.171944         99   14.031955         99  41.303302   \n",
       "\n",
       "       humidity3       ARI3  \n",
       "0             98   7.694154  \n",
       "1             96   0.000000  \n",
       "2             98  11.647651  \n",
       "3             92  23.445983  \n",
       "4             91   3.371466  \n",
       "...          ...        ...  \n",
       "20103         76  22.281705  \n",
       "20104         85  43.443317  \n",
       "20105         97   2.148039  \n",
       "20106         71   1.393536  \n",
       "20107         99  28.807342  \n",
       "\n",
       "[20108 rows x 14 columns]"
      ]
     },
     "execution_count": 6,
     "metadata": {},
     "output_type": "execute_result"
    }
   ],
   "source": [
    "\n",
    "X = df.copy()\n",
    "y = X.landslide\n",
    "columns=[]\n",
    "for i in range(9, 2, -1):\n",
    "    columns.append('humidity' + str(i))\n",
    "    columns.append('ARI' + str(i))\n",
    "    # columns.append('wind' + str(i))\n",
    "X = X[columns]\n",
    "for i in range(9, 2, -1):\n",
    "    X['ARI' + str(i)] = X['ARI' + str(i)].apply(float)\n",
    "X\n",
    "\n"
   ]
  },
  {
   "cell_type": "code",
   "execution_count": 7,
   "metadata": {},
   "outputs": [
    {
     "data": {
      "text/plain": [
       "(['humidity9',\n",
       "  'ARI9',\n",
       "  'humidity8',\n",
       "  'ARI8',\n",
       "  'humidity7',\n",
       "  'ARI7',\n",
       "  'humidity6',\n",
       "  'ARI6',\n",
       "  'humidity5',\n",
       "  'ARI5',\n",
       "  'humidity4',\n",
       "  'ARI4',\n",
       "  'humidity3',\n",
       "  'ARI3'],\n",
       " 14)"
      ]
     },
     "execution_count": 7,
     "metadata": {},
     "output_type": "execute_result"
    }
   ],
   "source": [
    "columns, len(columns)"
   ]
  },
  {
   "cell_type": "code",
   "execution_count": 8,
   "metadata": {},
   "outputs": [
    {
     "data": {
      "text/plain": [
       "landslide\n",
       "1    10101\n",
       "0    10007\n",
       "Name: count, dtype: int64"
      ]
     },
     "execution_count": 8,
     "metadata": {},
     "output_type": "execute_result"
    }
   ],
   "source": [
    "\n",
    "y.value_counts()\n"
   ]
  },
  {
   "cell_type": "code",
   "execution_count": 9,
   "metadata": {},
   "outputs": [
    {
     "data": {
      "text/plain": [
       "array([45.        ,  0.        , 56.        ,  0.        , 93.        ,\n",
       "       12.10479937, 97.        ,  3.22463918, 90.        ,  3.97429888,\n",
       "       95.        ,  3.93709151, 95.        ,  1.41162025])"
      ]
     },
     "execution_count": 9,
     "metadata": {},
     "output_type": "execute_result"
    }
   ],
   "source": [
    "\n",
    "from sklearn.model_selection import train_test_split\n",
    "from sklearn.preprocessing import StandardScaler\n",
    "X_train, X_test, y_train, y_test = train_test_split(X, y, test_size = 0.2)\n",
    "\n",
    "# scaler = StandardScaler()\n",
    "# scaler.fit(X_train)\n",
    "\n",
    "# X_train = scaler.transform(X_train)\n",
    "# X_test = scaler.transform(X_test)\n",
    "X_train = np.array(X_train)\n",
    "X_test = np.array(X_test)\n",
    "X_train[0]\n"
   ]
  },
  {
   "cell_type": "code",
   "execution_count": 10,
   "metadata": {},
   "outputs": [
    {
     "data": {
      "text/plain": [
       "(4022, 4022)"
      ]
     },
     "execution_count": 10,
     "metadata": {},
     "output_type": "execute_result"
    }
   ],
   "source": [
    "len(X_test), len(y_test)"
   ]
  },
  {
   "cell_type": "code",
   "execution_count": 11,
   "metadata": {},
   "outputs": [
    {
     "data": {
      "text/plain": [
       "16086"
      ]
     },
     "execution_count": 11,
     "metadata": {},
     "output_type": "execute_result"
    }
   ],
   "source": [
    "len(X_train)"
   ]
  },
  {
   "cell_type": "code",
   "execution_count": 12,
   "metadata": {},
   "outputs": [
    {
     "data": {
      "text/plain": [
       "(14,)"
      ]
     },
     "execution_count": 12,
     "metadata": {},
     "output_type": "execute_result"
    }
   ],
   "source": [
    "X_train[0].shape"
   ]
  },
  {
   "cell_type": "code",
   "execution_count": 13,
   "metadata": {},
   "outputs": [
    {
     "data": {
      "text/plain": [
       "landslide\n",
       "0    2012\n",
       "1    2010\n",
       "Name: count, dtype: int64"
      ]
     },
     "execution_count": 13,
     "metadata": {},
     "output_type": "execute_result"
    }
   ],
   "source": [
    "y_test.value_counts()"
   ]
  },
  {
   "cell_type": "code",
   "execution_count": 14,
   "metadata": {},
   "outputs": [
    {
     "name": "stdout",
     "output_type": "stream",
     "text": [
      "(16086, 7, 2)\n"
     ]
    },
    {
     "data": {
      "text/plain": [
       "array([[45.        ,  0.        ],\n",
       "       [56.        ,  0.        ],\n",
       "       [93.        , 12.10479937],\n",
       "       [97.        ,  3.22463918],\n",
       "       [90.        ,  3.97429888],\n",
       "       [95.        ,  3.93709151],\n",
       "       [95.        ,  1.41162025]])"
      ]
     },
     "execution_count": 14,
     "metadata": {},
     "output_type": "execute_result"
    }
   ],
   "source": [
    "y_train = np.array(y_train)\n",
    "y_test = np.array(y_test)\n",
    "# len(X_train) # of batches\n",
    "# 5 timesteps (days 7 - 3)\n",
    "# 2 features per timestep\n",
    "X_train=X_train.reshape((len(X_train), 7, 2))\n",
    "X_test=X_test.reshape((len(X_test), 7, 2))\n",
    "\n",
    "print(X_train.shape)\n",
    "X_train[0]\n"
   ]
  },
  {
   "cell_type": "code",
   "execution_count": 15,
   "metadata": {},
   "outputs": [
    {
     "name": "stderr",
     "output_type": "stream",
     "text": [
      "/Library/Frameworks/Python.framework/Versions/3.12/lib/python3.12/site-packages/keras/src/layers/rnn/bidirectional.py:107: UserWarning: Do not pass an `input_shape`/`input_dim` argument to a layer. When using Sequential models, prefer using an `Input(shape)` object as the first layer in the model instead.\n",
      "  super().__init__(**kwargs)\n"
     ]
    },
    {
     "name": "stdout",
     "output_type": "stream",
     "text": [
      "Epoch 1/25\n",
      "252/252 - 19s - 77ms/step - accuracy: 0.6683 - loss: 0.6165\n",
      "Epoch 2/25\n",
      "252/252 - 13s - 50ms/step - accuracy: 0.6846 - loss: 0.6044\n",
      "Epoch 3/25\n",
      "252/252 - 14s - 57ms/step - accuracy: 0.6886 - loss: 0.5959\n",
      "Epoch 4/25\n",
      "252/252 - 14s - 56ms/step - accuracy: 0.6987 - loss: 0.5898\n",
      "Epoch 5/25\n",
      "252/252 - 15s - 60ms/step - accuracy: 0.7034 - loss: 0.5825\n",
      "Epoch 6/25\n",
      "252/252 - 15s - 58ms/step - accuracy: 0.7102 - loss: 0.5805\n",
      "Epoch 7/25\n",
      "252/252 - 16s - 65ms/step - accuracy: 0.7125 - loss: 0.5766\n",
      "Epoch 8/25\n",
      "252/252 - 18s - 71ms/step - accuracy: 0.7176 - loss: 0.5725\n",
      "Epoch 9/25\n",
      "252/252 - 15s - 60ms/step - accuracy: 0.7189 - loss: 0.5681\n",
      "Epoch 10/25\n",
      "252/252 - 26s - 102ms/step - accuracy: 0.7175 - loss: 0.5663\n",
      "Epoch 11/25\n",
      "252/252 - 15s - 59ms/step - accuracy: 0.7229 - loss: 0.5640\n",
      "Epoch 12/25\n",
      "252/252 - 14s - 57ms/step - accuracy: 0.7198 - loss: 0.5611\n",
      "Epoch 13/25\n",
      "252/252 - 14s - 55ms/step - accuracy: 0.7242 - loss: 0.5580\n",
      "Epoch 14/25\n",
      "252/252 - 14s - 56ms/step - accuracy: 0.7296 - loss: 0.5534\n",
      "Epoch 15/25\n",
      "252/252 - 28s - 110ms/step - accuracy: 0.7307 - loss: 0.5498\n",
      "Epoch 16/25\n",
      "252/252 - 18s - 72ms/step - accuracy: 0.7336 - loss: 0.5491\n",
      "Epoch 17/25\n",
      "252/252 - 24s - 95ms/step - accuracy: 0.7317 - loss: 0.5485\n",
      "Epoch 18/25\n",
      "252/252 - 17s - 68ms/step - accuracy: 0.7347 - loss: 0.5408\n",
      "Epoch 19/25\n",
      "252/252 - 14s - 56ms/step - accuracy: 0.7384 - loss: 0.5388\n",
      "Epoch 20/25\n",
      "252/252 - 14s - 55ms/step - accuracy: 0.7400 - loss: 0.5384\n",
      "Epoch 21/25\n",
      "252/252 - 13s - 53ms/step - accuracy: 0.7393 - loss: 0.5360\n",
      "Epoch 22/25\n",
      "252/252 - 17s - 66ms/step - accuracy: 0.7445 - loss: 0.5288\n",
      "Epoch 23/25\n",
      "252/252 - 16s - 63ms/step - accuracy: 0.7436 - loss: 0.5288\n",
      "Epoch 24/25\n",
      "252/252 - 14s - 54ms/step - accuracy: 0.7465 - loss: 0.5231\n",
      "Epoch 25/25\n",
      "252/252 - 14s - 56ms/step - accuracy: 0.7498 - loss: 0.5220\n",
      "(16086, 7, 2)\n"
     ]
    },
    {
     "data": {
      "text/plain": [
       "array([[45.        ,  0.        ],\n",
       "       [56.        ,  0.        ],\n",
       "       [93.        , 12.10479937],\n",
       "       [97.        ,  3.22463918],\n",
       "       [90.        ,  3.97429888],\n",
       "       [95.        ,  3.93709151],\n",
       "       [95.        ,  1.41162025]])"
      ]
     },
     "execution_count": 15,
     "metadata": {},
     "output_type": "execute_result"
    }
   ],
   "source": [
    "from tensorflow.keras.models import Sequential\n",
    "from tensorflow.keras.layers import LSTM, Bidirectional, Dense, Dropout, BatchNormalization, LeakyReLU\n",
    "\n",
    "model = Sequential()\n",
    "\n",
    "# 1st Bidirectional LSTM Layer (256 units)\n",
    "model.add(Bidirectional(LSTM(256, return_sequences=True), input_shape=(7, 2)))\n",
    "model.add(BatchNormalization())\n",
    "model.add(Dropout(0.3))\n",
    "\n",
    "# 2nd Bidirectional LSTM Layer (128 units)\n",
    "model.add(Bidirectional(LSTM(128, return_sequences=True)))\n",
    "model.add(BatchNormalization())\n",
    "model.add(Dropout(0.3))\n",
    "\n",
    "# 3rd Bidirectional LSTM Layer (64 units)\n",
    "model.add(Bidirectional(LSTM(64, return_sequences=True)))\n",
    "model.add(BatchNormalization())\n",
    "model.add(Dropout(0.25))\n",
    "\n",
    "# 4th Bidirectional LSTM Layer (32 units)\n",
    "model.add(Bidirectional(LSTM(32)))\n",
    "model.add(Dropout(0.25))\n",
    "\n",
    "# Dense Layers\n",
    "model.add(Dense(256))\n",
    "model.add(LeakyReLU())\n",
    "model.add(Dropout(0.3))\n",
    "\n",
    "model.add(Dense(128))\n",
    "model.add(LeakyReLU())\n",
    "model.add(Dropout(0.3))\n",
    "\n",
    "model.add(Dense(64))\n",
    "model.add(LeakyReLU())\n",
    "model.add(Dropout(0.2))\n",
    "\n",
    "model.add(Dense(32))\n",
    "model.add(LeakyReLU())\n",
    "model.add(Dropout(0.2))\n",
    "\n",
    "# Output Layer\n",
    "model.add(Dense(1, activation='sigmoid'))\n",
    "\n",
    "# Compile\n",
    "model.compile(loss='binary_crossentropy', optimizer='adam', metrics=[\"accuracy\"])\n",
    "\n",
    "# Train\n",
    "model.fit(X_train, y_train, epochs=25, batch_size=64, verbose=2)\n",
    "X_train = np.array(X_train)\n",
    "X_test = np.array(X_test)\n",
    "\n",
    "# len(X_train) # of batches\n",
    "# 5 timesteps (days 7 - 3)\n",
    "# 2 features per timestep\n",
    "X_train=X_train.reshape((len(X_train), 7, 2))\n",
    "X_test=X_test.reshape((len(X_test), 7, 2))\n",
    "\n",
    "print(X_train.shape)\n",
    "X_train[0]\n"
   ]
  },
  {
   "cell_type": "code",
   "execution_count": 16,
   "metadata": {},
   "outputs": [
    {
     "name": "stdout",
     "output_type": "stream",
     "text": [
      "\u001b[1m126/126\u001b[0m \u001b[32m━━━━━━━━━━━━━━━━━━━━\u001b[0m\u001b[37m\u001b[0m \u001b[1m3s\u001b[0m 14ms/step - accuracy: 0.7410 - loss: 0.5258\n"
     ]
    },
    {
     "data": {
      "text/plain": [
       "{'accuracy': 0.7337145805358887, 'loss': 0.5379607677459717}"
      ]
     },
     "execution_count": 16,
     "metadata": {},
     "output_type": "execute_result"
    }
   ],
   "source": [
    "model.evaluate(X_test, y_test, return_dict=True)"
   ]
  },
  {
   "cell_type": "code",
   "execution_count": 17,
   "metadata": {},
   "outputs": [
    {
     "name": "stdout",
     "output_type": "stream",
     "text": [
      "\u001b[1m126/126\u001b[0m \u001b[32m━━━━━━━━━━━━━━━━━━━━\u001b[0m\u001b[37m\u001b[0m \u001b[1m3s\u001b[0m 18ms/step\n",
      "Classification Report:\n",
      "              precision    recall  f1-score   support\n",
      "\n",
      "           0       0.71      0.80      0.75      2012\n",
      "           1       0.77      0.67      0.71      2010\n",
      "\n",
      "    accuracy                           0.73      4022\n",
      "   macro avg       0.74      0.73      0.73      4022\n",
      "weighted avg       0.74      0.73      0.73      4022\n",
      "\n",
      "\n",
      "Individual Metrics:\n",
      "Precision: 0.7700\n",
      "Recall: 0.6662\n",
      "F1 Score: 0.7143\n",
      "Accuracy: 0.7337\n",
      "\n",
      "Confusion Matrix:\n",
      "[[1612  400]\n",
      " [ 671 1339]]\n",
      "\n",
      "Format: [[TN, FP], [FN, TP]]\n"
     ]
    }
   ],
   "source": [
    "# Calculate precision, recall, F1 score, and confusion matrix\n",
    "import numpy as np\n",
    "from sklearn.metrics import classification_report, confusion_matrix, precision_score, recall_score, f1_score, accuracy_score\n",
    "\n",
    "# Get predictions (probabilities)\n",
    "y_pred_prob = model.predict(X_test)\n",
    "\n",
    "# Convert probabilities to binary predictions using 0.5 threshold\n",
    "y_pred = (y_pred_prob > 0.5).astype(int)\n",
    "\n",
    "# Print detailed classification report\n",
    "print(\"Classification Report:\")\n",
    "print(classification_report(y_test, y_pred))\n",
    "\n",
    "# Calculate individual metrics\n",
    "precision = precision_score(y_test, y_pred)\n",
    "recall = recall_score(y_test, y_pred)\n",
    "f1 = f1_score(y_test, y_pred)\n",
    "accuracy = accuracy_score(y_test, y_pred)\n",
    "\n",
    "print(\"\\nIndividual Metrics:\")\n",
    "print(f\"Precision: {precision:.4f}\")\n",
    "print(f\"Recall: {recall:.4f}\")\n",
    "print(f\"F1 Score: {f1:.4f}\")\n",
    "print(f\"Accuracy: {accuracy:.4f}\")\n",
    "\n",
    "# Display confusion matrix\n",
    "cm = confusion_matrix(y_test, y_pred)\n",
    "print(\"\\nConfusion Matrix:\")\n",
    "print(cm)\n",
    "print(\"\\nFormat: [[TN, FP], [FN, TP]]\")\n"
   ]
  },
  {
   "cell_type": "code",
   "execution_count": null,
   "metadata": {},
   "outputs": [],
   "source": []
  }
 ],
 "metadata": {
  "kernelspec": {
   "display_name": "Python 3",
   "language": "python",
   "name": "python3"
  },
  "language_info": {
   "codemirror_mode": {
    "name": "ipython",
    "version": 3
   },
   "file_extension": ".py",
   "mimetype": "text/x-python",
   "name": "python",
   "nbconvert_exporter": "python",
   "pygments_lexer": "ipython3",
   "version": "3.12.5"
  }
 },
 "nbformat": 4,
 "nbformat_minor": 2
}
