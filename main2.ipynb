{
 "cells": [
  {
   "cell_type": "code",
   "execution_count": 1,
   "metadata": {},
   "outputs": [],
   "source": [
    "import random\n",
    "import pandas as pd\n",
    "import numpy as np\n",
    "from sklearn.utils import shuffle\n",
    "from sklearn.preprocessing import StandardScaler, OrdinalEncoder\n",
    "from sklearn.compose import ColumnTransformer\n",
    "from sklearn.pipeline import Pipeline\n",
    "from sklearn.model_selection import train_test_split\n",
    "from sklearn.svm import SVC\n",
    "from sklearn.metrics import classification_report, confusion_matrix, accuracy_score\n",
    "from sklearn.decomposition import PCA\n",
    "from tqdm import tqdm\n",
    "from sklearn.ensemble import RandomForestClassifier\n",
    "import warnings\n",
    "from tensorflow.keras.models import Sequential\n",
    "from tensorflow.keras.layers import Dense, LSTM, Bidirectional, BatchNormalization\n",
    "from tensorflow.keras.optimizers import Adam\n",
    "from tensorflow.keras import regularizers\n",
    "from tensorflow.keras.callbacks import EarlyStopping, ReduceLROnPlateau\n",
    "import tensorflow as tf"
   ]
  },
  {
   "cell_type": "code",
   "execution_count": 4,
   "metadata": {},
   "outputs": [
    {
     "data": {
      "text/plain": [
       "severity\n",
       "medium          5450\n",
       "small           2586\n",
       "unknown          827\n",
       "large            654\n",
       "...              357\n",
       "very_large       101\n",
       "Medium            72\n",
       "Unknown           19\n",
       "Large             17\n",
       "Small             10\n",
       "catastrophic       4\n",
       "landslide          2\n",
       "Very...large       1\n",
       "Very_large         1\n",
       "Name: count, dtype: int64"
      ]
     },
     "metadata": {},
     "output_type": "display_data"
    }
   ],
   "source": [
    "df = pd.read_csv('glif', low_memory=False)\n",
    "display(df['severity'].value_counts())\n",
    "df = shuffle(df)\n",
    "df.reset_index(inplace=True, drop=True)"
   ]
  },
  {
   "cell_type": "code",
   "execution_count": 5,
   "metadata": {},
   "outputs": [
    {
     "data": {
      "text/html": [
       "<div>\n",
       "<style scoped>\n",
       "    .dataframe tbody tr th:only-of-type {\n",
       "        vertical-align: middle;\n",
       "    }\n",
       "\n",
       "    .dataframe tbody tr th {\n",
       "        vertical-align: top;\n",
       "    }\n",
       "\n",
       "    .dataframe thead th {\n",
       "        text-align: right;\n",
       "    }\n",
       "</style>\n",
       "<table border=\"1\" class=\"dataframe\">\n",
       "  <thead>\n",
       "    <tr style=\"text-align: right;\">\n",
       "      <th></th>\n",
       "      <th>humidity9</th>\n",
       "      <th>ARI9</th>\n",
       "      <th>humidity8</th>\n",
       "      <th>ARI8</th>\n",
       "      <th>humidity7</th>\n",
       "      <th>ARI7</th>\n",
       "      <th>humidity6</th>\n",
       "      <th>ARI6</th>\n",
       "      <th>humidity5</th>\n",
       "      <th>ARI5</th>\n",
       "      <th>humidity4</th>\n",
       "      <th>ARI4</th>\n",
       "      <th>humidity3</th>\n",
       "      <th>ARI3</th>\n",
       "    </tr>\n",
       "  </thead>\n",
       "  <tbody>\n",
       "    <tr>\n",
       "      <th>0</th>\n",
       "      <td>85</td>\n",
       "      <td>6.536082</td>\n",
       "      <td>89</td>\n",
       "      <td>19.235797</td>\n",
       "      <td>87</td>\n",
       "      <td>17.709329</td>\n",
       "      <td>91</td>\n",
       "      <td>12.090500</td>\n",
       "      <td>92</td>\n",
       "      <td>11.204584</td>\n",
       "      <td>93</td>\n",
       "      <td>7.394718</td>\n",
       "      <td>92</td>\n",
       "      <td>5.019352</td>\n",
       "    </tr>\n",
       "    <tr>\n",
       "      <th>1</th>\n",
       "      <td>98</td>\n",
       "      <td>0.024357</td>\n",
       "      <td>94</td>\n",
       "      <td>9.464829</td>\n",
       "      <td>98</td>\n",
       "      <td>2.564525</td>\n",
       "      <td>90</td>\n",
       "      <td>1.100603</td>\n",
       "      <td>85</td>\n",
       "      <td>10.006028</td>\n",
       "      <td>86</td>\n",
       "      <td>2.738959</td>\n",
       "      <td>93</td>\n",
       "      <td>2.571112</td>\n",
       "    </tr>\n",
       "    <tr>\n",
       "      <th>2</th>\n",
       "      <td>90</td>\n",
       "      <td>0.702806</td>\n",
       "      <td>87</td>\n",
       "      <td>2.204992</td>\n",
       "      <td>89</td>\n",
       "      <td>4.032655</td>\n",
       "      <td>96</td>\n",
       "      <td>6.582246</td>\n",
       "      <td>95</td>\n",
       "      <td>2.619075</td>\n",
       "      <td>98</td>\n",
       "      <td>18.385735</td>\n",
       "      <td>98</td>\n",
       "      <td>18.622521</td>\n",
       "    </tr>\n",
       "    <tr>\n",
       "      <th>3</th>\n",
       "      <td>98</td>\n",
       "      <td>1.163047</td>\n",
       "      <td>91</td>\n",
       "      <td>0.621916</td>\n",
       "      <td>93</td>\n",
       "      <td>2.494970</td>\n",
       "      <td>96</td>\n",
       "      <td>3.567323</td>\n",
       "      <td>82</td>\n",
       "      <td>1.118511</td>\n",
       "      <td>64</td>\n",
       "      <td>0.453613</td>\n",
       "      <td>67</td>\n",
       "      <td>0.259652</td>\n",
       "    </tr>\n",
       "    <tr>\n",
       "      <th>4</th>\n",
       "      <td>94</td>\n",
       "      <td>2.620768</td>\n",
       "      <td>86</td>\n",
       "      <td>1.624376</td>\n",
       "      <td>98</td>\n",
       "      <td>1.176948</td>\n",
       "      <td>99</td>\n",
       "      <td>4.705522</td>\n",
       "      <td>99</td>\n",
       "      <td>9.566769</td>\n",
       "      <td>100</td>\n",
       "      <td>6.132739</td>\n",
       "      <td>99</td>\n",
       "      <td>3.882658</td>\n",
       "    </tr>\n",
       "    <tr>\n",
       "      <th>...</th>\n",
       "      <td>...</td>\n",
       "      <td>...</td>\n",
       "      <td>...</td>\n",
       "      <td>...</td>\n",
       "      <td>...</td>\n",
       "      <td>...</td>\n",
       "      <td>...</td>\n",
       "      <td>...</td>\n",
       "      <td>...</td>\n",
       "      <td>...</td>\n",
       "      <td>...</td>\n",
       "      <td>...</td>\n",
       "      <td>...</td>\n",
       "      <td>...</td>\n",
       "    </tr>\n",
       "    <tr>\n",
       "      <th>20103</th>\n",
       "      <td>82</td>\n",
       "      <td>7.021298</td>\n",
       "      <td>86</td>\n",
       "      <td>4.054428</td>\n",
       "      <td>91</td>\n",
       "      <td>3.119813</td>\n",
       "      <td>99</td>\n",
       "      <td>30.913308</td>\n",
       "      <td>97</td>\n",
       "      <td>28.795115</td>\n",
       "      <td>98</td>\n",
       "      <td>31.371442</td>\n",
       "      <td>94</td>\n",
       "      <td>10.777424</td>\n",
       "    </tr>\n",
       "    <tr>\n",
       "      <th>20104</th>\n",
       "      <td>65</td>\n",
       "      <td>1.375589</td>\n",
       "      <td>67</td>\n",
       "      <td>1.271383</td>\n",
       "      <td>64</td>\n",
       "      <td>0.535112</td>\n",
       "      <td>54</td>\n",
       "      <td>0.246796</td>\n",
       "      <td>95</td>\n",
       "      <td>18.407270</td>\n",
       "      <td>88</td>\n",
       "      <td>6.157822</td>\n",
       "      <td>76</td>\n",
       "      <td>2.909565</td>\n",
       "    </tr>\n",
       "    <tr>\n",
       "      <th>20105</th>\n",
       "      <td>89</td>\n",
       "      <td>34.614190</td>\n",
       "      <td>90</td>\n",
       "      <td>28.248547</td>\n",
       "      <td>88</td>\n",
       "      <td>18.873101</td>\n",
       "      <td>85</td>\n",
       "      <td>11.389768</td>\n",
       "      <td>86</td>\n",
       "      <td>7.170399</td>\n",
       "      <td>90</td>\n",
       "      <td>5.478362</td>\n",
       "      <td>87</td>\n",
       "      <td>5.294594</td>\n",
       "    </tr>\n",
       "    <tr>\n",
       "      <th>20106</th>\n",
       "      <td>43</td>\n",
       "      <td>0.000000</td>\n",
       "      <td>39</td>\n",
       "      <td>0.000000</td>\n",
       "      <td>43</td>\n",
       "      <td>0.000000</td>\n",
       "      <td>45</td>\n",
       "      <td>0.000000</td>\n",
       "      <td>41</td>\n",
       "      <td>0.000000</td>\n",
       "      <td>36</td>\n",
       "      <td>0.000000</td>\n",
       "      <td>36</td>\n",
       "      <td>0.000000</td>\n",
       "    </tr>\n",
       "    <tr>\n",
       "      <th>20107</th>\n",
       "      <td>100</td>\n",
       "      <td>6.833284</td>\n",
       "      <td>100</td>\n",
       "      <td>5.335424</td>\n",
       "      <td>100</td>\n",
       "      <td>5.346284</td>\n",
       "      <td>100</td>\n",
       "      <td>11.478574</td>\n",
       "      <td>99</td>\n",
       "      <td>14.393801</td>\n",
       "      <td>99</td>\n",
       "      <td>12.050988</td>\n",
       "      <td>99</td>\n",
       "      <td>6.038893</td>\n",
       "    </tr>\n",
       "  </tbody>\n",
       "</table>\n",
       "<p>20108 rows × 14 columns</p>\n",
       "</div>"
      ],
      "text/plain": [
       "       humidity9       ARI9  humidity8       ARI8  humidity7       ARI7  \\\n",
       "0             85   6.536082         89  19.235797         87  17.709329   \n",
       "1             98   0.024357         94   9.464829         98   2.564525   \n",
       "2             90   0.702806         87   2.204992         89   4.032655   \n",
       "3             98   1.163047         91   0.621916         93   2.494970   \n",
       "4             94   2.620768         86   1.624376         98   1.176948   \n",
       "...          ...        ...        ...        ...        ...        ...   \n",
       "20103         82   7.021298         86   4.054428         91   3.119813   \n",
       "20104         65   1.375589         67   1.271383         64   0.535112   \n",
       "20105         89  34.614190         90  28.248547         88  18.873101   \n",
       "20106         43   0.000000         39   0.000000         43   0.000000   \n",
       "20107        100   6.833284        100   5.335424        100   5.346284   \n",
       "\n",
       "       humidity6       ARI6  humidity5       ARI5  humidity4       ARI4  \\\n",
       "0             91  12.090500         92  11.204584         93   7.394718   \n",
       "1             90   1.100603         85  10.006028         86   2.738959   \n",
       "2             96   6.582246         95   2.619075         98  18.385735   \n",
       "3             96   3.567323         82   1.118511         64   0.453613   \n",
       "4             99   4.705522         99   9.566769        100   6.132739   \n",
       "...          ...        ...        ...        ...        ...        ...   \n",
       "20103         99  30.913308         97  28.795115         98  31.371442   \n",
       "20104         54   0.246796         95  18.407270         88   6.157822   \n",
       "20105         85  11.389768         86   7.170399         90   5.478362   \n",
       "20106         45   0.000000         41   0.000000         36   0.000000   \n",
       "20107        100  11.478574         99  14.393801         99  12.050988   \n",
       "\n",
       "       humidity3       ARI3  \n",
       "0             92   5.019352  \n",
       "1             93   2.571112  \n",
       "2             98  18.622521  \n",
       "3             67   0.259652  \n",
       "4             99   3.882658  \n",
       "...          ...        ...  \n",
       "20103         94  10.777424  \n",
       "20104         76   2.909565  \n",
       "20105         87   5.294594  \n",
       "20106         36   0.000000  \n",
       "20107         99   6.038893  \n",
       "\n",
       "[20108 rows x 14 columns]"
      ]
     },
     "execution_count": 5,
     "metadata": {},
     "output_type": "execute_result"
    }
   ],
   "source": [
    "\n",
    "X = df.copy()\n",
    "y = X.landslide\n",
    "columns=[]\n",
    "for i in range(9, 2, -1):\n",
    "    columns.append('humidity' + str(i))\n",
    "    columns.append('ARI' + str(i))\n",
    "    # columns.append('wind' + str(i))\n",
    "X = X[columns]\n",
    "for i in range(9, 2, -1):\n",
    "    X['ARI' + str(i)] = X['ARI' + str(i)].apply(float)\n",
    "X\n",
    "\n"
   ]
  },
  {
   "cell_type": "code",
   "execution_count": 6,
   "metadata": {},
   "outputs": [
    {
     "data": {
      "text/plain": [
       "(['humidity9',\n",
       "  'ARI9',\n",
       "  'humidity8',\n",
       "  'ARI8',\n",
       "  'humidity7',\n",
       "  'ARI7',\n",
       "  'humidity6',\n",
       "  'ARI6',\n",
       "  'humidity5',\n",
       "  'ARI5',\n",
       "  'humidity4',\n",
       "  'ARI4',\n",
       "  'humidity3',\n",
       "  'ARI3'],\n",
       " 14)"
      ]
     },
     "execution_count": 6,
     "metadata": {},
     "output_type": "execute_result"
    }
   ],
   "source": [
    "columns, len(columns)"
   ]
  },
  {
   "cell_type": "code",
   "execution_count": 7,
   "metadata": {},
   "outputs": [
    {
     "data": {
      "text/plain": [
       "landslide\n",
       "1    10101\n",
       "0    10007\n",
       "Name: count, dtype: int64"
      ]
     },
     "execution_count": 7,
     "metadata": {},
     "output_type": "execute_result"
    }
   ],
   "source": [
    "\n",
    "y.value_counts()\n"
   ]
  },
  {
   "cell_type": "code",
   "execution_count": 8,
   "metadata": {},
   "outputs": [
    {
     "data": {
      "text/plain": [
       "array([84.        , 12.72040528, 74.        ,  6.94684848, 79.        ,\n",
       "        2.94291832, 80.        ,  1.93432416, 74.        ,  1.2642648 ,\n",
       "       72.        ,  0.70918063, 75.        ,  0.71558754])"
      ]
     },
     "execution_count": 8,
     "metadata": {},
     "output_type": "execute_result"
    }
   ],
   "source": [
    "\n",
    "from sklearn.model_selection import train_test_split\n",
    "from sklearn.preprocessing import StandardScaler\n",
    "X_train, X_test, y_train, y_test = train_test_split(X, y, test_size = 0.2)\n",
    "\n",
    "# scaler = StandardScaler()\n",
    "# scaler.fit(X_train)\n",
    "\n",
    "# X_train = scaler.transform(X_train)\n",
    "# X_test = scaler.transform(X_test)\n",
    "X_train = np.array(X_train)\n",
    "X_test = np.array(X_test)\n",
    "X_train[0]\n"
   ]
  },
  {
   "cell_type": "code",
   "execution_count": 9,
   "metadata": {},
   "outputs": [
    {
     "data": {
      "text/plain": [
       "(4022, 4022)"
      ]
     },
     "execution_count": 9,
     "metadata": {},
     "output_type": "execute_result"
    }
   ],
   "source": [
    "len(X_test), len(y_test)"
   ]
  },
  {
   "cell_type": "code",
   "execution_count": 10,
   "metadata": {},
   "outputs": [
    {
     "data": {
      "text/plain": [
       "16086"
      ]
     },
     "execution_count": 10,
     "metadata": {},
     "output_type": "execute_result"
    }
   ],
   "source": [
    "len(X_train)"
   ]
  },
  {
   "cell_type": "code",
   "execution_count": 11,
   "metadata": {},
   "outputs": [
    {
     "data": {
      "text/plain": [
       "(14,)"
      ]
     },
     "execution_count": 11,
     "metadata": {},
     "output_type": "execute_result"
    }
   ],
   "source": [
    "X_train[0].shape"
   ]
  },
  {
   "cell_type": "code",
   "execution_count": 12,
   "metadata": {},
   "outputs": [
    {
     "data": {
      "text/plain": [
       "landslide\n",
       "0    2027\n",
       "1    1995\n",
       "Name: count, dtype: int64"
      ]
     },
     "execution_count": 12,
     "metadata": {},
     "output_type": "execute_result"
    }
   ],
   "source": [
    "y_test.value_counts()"
   ]
  },
  {
   "cell_type": "code",
   "execution_count": 13,
   "metadata": {},
   "outputs": [
    {
     "name": "stdout",
     "output_type": "stream",
     "text": [
      "(16086, 7, 2)\n"
     ]
    },
    {
     "data": {
      "text/plain": [
       "array([[84.        , 12.72040528],\n",
       "       [74.        ,  6.94684848],\n",
       "       [79.        ,  2.94291832],\n",
       "       [80.        ,  1.93432416],\n",
       "       [74.        ,  1.2642648 ],\n",
       "       [72.        ,  0.70918063],\n",
       "       [75.        ,  0.71558754]])"
      ]
     },
     "execution_count": 13,
     "metadata": {},
     "output_type": "execute_result"
    }
   ],
   "source": [
    "y_train = np.array(y_train)\n",
    "y_test = np.array(y_test)\n",
    "# len(X_train) # of batches\n",
    "# 5 timesteps (days 7 - 3)\n",
    "# 2 features per timestep\n",
    "X_train=X_train.reshape((len(X_train), 7, 2))\n",
    "X_test=X_test.reshape((len(X_test), 7, 2))\n",
    "\n",
    "print(X_train.shape)\n",
    "X_train[0]\n"
   ]
  },
  {
   "cell_type": "code",
   "execution_count": null,
   "metadata": {},
   "outputs": [],
   "source": [
    "# Create a more robust model with increased capacity\n",
    "from tensorflow.keras.layers import Dropout\n",
    "model = Sequential()\n",
    "# Increase LSTM units for better feature extraction\n",
    "model.add(Bidirectional(LSTM(32, return_sequences=True)))\n",
    "model.add(Bidirectional(LSTM(16)))\n",
    "# Add dropout to prevent overfitting\n",
    "model.add(Dropout(0.2))\n",
    "# Add a hidden dense layer\n",
    "model.add(Dense(8, activation='relu'))\n",
    "model.add(Dense(1, activation='sigmoid'))\n",
    "# Use same compilation settings\n",
    "model.compile(loss='binary_crossentropy', optimizer='adam', metrics=[\"accuracy\"])\n",
    "# Increase batch size for faster training\n",
    "model.fit(X_train, y_train, epochs=20, batch_size=64, verbose=2)"
   ]
  },
  {
   "cell_type": "code",
   "execution_count": 63,
   "metadata": {},
   "outputs": [
    {
     "name": "stdout",
     "output_type": "stream",
     "text": [
      "\u001b[1m126/126\u001b[0m \u001b[32m━━━━━━━━━━━━━━━━━━━━\u001b[0m\u001b[37m\u001b[0m \u001b[1m0s\u001b[0m 973us/step - accuracy: 0.7149 - loss: 0.5660\n"
     ]
    },
    {
     "data": {
      "text/plain": [
       "{'accuracy': 0.7125808000564575, 'loss': 0.5648311376571655}"
      ]
     },
     "execution_count": 63,
     "metadata": {},
     "output_type": "execute_result"
    }
   ],
   "source": [
    "model.evaluate(X_test, y_test, return_dict=True)"
   ]
  },
  {
   "cell_type": "code",
   "execution_count": 64,
   "metadata": {},
   "outputs": [
    {
     "name": "stdout",
     "output_type": "stream",
     "text": [
      "\u001b[1m126/126\u001b[0m \u001b[32m━━━━━━━━━━━━━━━━━━━━\u001b[0m\u001b[37m\u001b[0m \u001b[1m0s\u001b[0m 2ms/step\n",
      "Classification Report:\n",
      "              precision    recall  f1-score   support\n",
      "\n",
      "           0       0.70      0.74      0.72      2003\n",
      "           1       0.73      0.68      0.70      2019\n",
      "\n",
      "    accuracy                           0.71      4022\n",
      "   macro avg       0.71      0.71      0.71      4022\n",
      "weighted avg       0.71      0.71      0.71      4022\n",
      "\n",
      "\n",
      "Individual Metrics:\n",
      "Precision: 0.7284\n",
      "Recall: 0.6815\n",
      "F1 Score: 0.7042\n",
      "Accuracy: 0.7126\n",
      "\n",
      "Confusion Matrix:\n",
      "[[1490  513]\n",
      " [ 643 1376]]\n",
      "\n",
      "Format: [[TN, FP], [FN, TP]]\n"
     ]
    }
   ],
   "source": [
    "# Calculate precision, recall, F1 score, and confusion matrix\n",
    "import numpy as np\n",
    "from sklearn.metrics import classification_report, confusion_matrix, precision_score, recall_score, f1_score, accuracy_score\n",
    "\n",
    "# Get predictions (probabilities)\n",
    "y_pred_prob = model.predict(X_test)\n",
    "\n",
    "# Convert probabilities to binary predictions using 0.5 threshold\n",
    "y_pred = (y_pred_prob > 0.5).astype(int)\n",
    "\n",
    "# Print detailed classification report\n",
    "print(\"Classification Report:\")\n",
    "print(classification_report(y_test, y_pred))\n",
    "\n",
    "# Calculate individual metrics\n",
    "precision = precision_score(y_test, y_pred)\n",
    "recall = recall_score(y_test, y_pred)\n",
    "f1 = f1_score(y_test, y_pred)\n",
    "accuracy = accuracy_score(y_test, y_pred)\n",
    "\n",
    "print(\"\\nIndividual Metrics:\")\n",
    "print(f\"Precision: {precision:.4f}\")\n",
    "print(f\"Recall: {recall:.4f}\")\n",
    "print(f\"F1 Score: {f1:.4f}\")\n",
    "print(f\"Accuracy: {accuracy:.4f}\")\n",
    "\n",
    "# Display confusion matrix\n",
    "cm = confusion_matrix(y_test, y_pred)\n",
    "print(\"\\nConfusion Matrix:\")\n",
    "print(cm)\n",
    "print(\"\\nFormat: [[TN, FP], [FN, TP]]\")\n"
   ]
  },
  {
   "cell_type": "code",
   "execution_count": null,
   "metadata": {},
   "outputs": [],
   "source": []
  }
 ],
 "metadata": {
  "kernelspec": {
   "display_name": "basicML",
   "language": "python",
   "name": "python3"
  },
  "language_info": {
   "codemirror_mode": {
    "name": "ipython",
    "version": 3
   },
   "file_extension": ".py",
   "mimetype": "text/x-python",
   "name": "python",
   "nbconvert_exporter": "python",
   "pygments_lexer": "ipython3",
   "version": "3.10.13"
  }
 },
 "nbformat": 4,
 "nbformat_minor": 2
}
