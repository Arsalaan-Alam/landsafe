{
 "cells": [
  {
   "cell_type": "code",
   "execution_count": 1,
   "metadata": {},
   "outputs": [],
   "source": [
    "import random\n",
    "import pandas as pd\n",
    "import numpy as np\n",
    "from sklearn.utils import shuffle\n",
    "from sklearn.preprocessing import StandardScaler, OrdinalEncoder\n",
    "from sklearn.compose import ColumnTransformer\n",
    "from sklearn.pipeline import Pipeline\n",
    "from sklearn.model_selection import train_test_split\n",
    "from sklearn.svm import SVC\n",
    "from sklearn.metrics import classification_report, confusion_matrix, accuracy_score\n",
    "from sklearn.decomposition import PCA\n",
    "from tqdm import tqdm\n",
    "import warnings\n"
   ]
  },
  {
   "cell_type": "code",
   "execution_count": 11,
   "metadata": {},
   "outputs": [
    {
     "name": "stderr",
     "output_type": "stream",
     "text": [
      "                                                        "
     ]
    },
    {
     "name": "stdout",
     "output_type": "stream",
     "text": [
      "loaded\n"
     ]
    },
    {
     "name": "stderr",
     "output_type": "stream",
     "text": [
      "\r"
     ]
    }
   ],
   "source": [
    "df = pd.read_csv('glif.csv', low_memory=False)\n",
    "# Filter for valid landslide entries\n",
    "df = df.query(\"(landslide == 0) | (landslide == 1 & (severity == 'small' | severity == 'medium' | severity == 'large'))\")\n",
    "num_landslides = df.landslide.value_counts()[1]\n",
    "\n",
    "count = 0\n",
    "to_drop = []\n",
    "for idx, row in tqdm(df.iterrows(), total=len(df), leave=False):\n",
    "    if row.landslide == 0 and count <= num_landslides:\n",
    "        count += 1\n",
    "    if row.landslide == 0 and count > num_landslides:\n",
    "        to_drop.append(idx)\n",
    "df.drop(to_drop, inplace=True)\n",
    "\n",
    "df = shuffle(df)\n",
    "df.reset_index(inplace=True, drop=True)\n",
    "print('loaded')"
   ]
  },
  {
   "cell_type": "code",
   "execution_count": 12,
   "metadata": {},
   "outputs": [
    {
     "data": {
      "text/plain": [
       "count    17380.000000\n",
       "mean         0.500000\n",
       "std          0.500014\n",
       "min          0.000000\n",
       "25%          0.000000\n",
       "50%          0.500000\n",
       "75%          1.000000\n",
       "max          1.000000\n",
       "Name: landslide, dtype: float64"
      ]
     },
     "execution_count": 12,
     "metadata": {},
     "output_type": "execute_result"
    }
   ],
   "source": [
    "df.landslide.describe()"
   ]
  },
  {
   "cell_type": "markdown",
   "metadata": {},
   "source": [
    "### loading to X, y"
   ]
  },
  {
   "cell_type": "code",
   "execution_count": 24,
   "metadata": {},
   "outputs": [],
   "source": [
    "X = df.copy()\n",
    "y = X.landslide\n",
    "columns = []\n",
    "for i in range(9, 4, -1):\n",
    "    columns.append(f'ARI{i}')\n",
    "    columns.append(f'air{i}')\n",
    "columns.extend(['slope', 'forest', 'osm', 'lithology'])\n",
    "X = X[columns]\n"
   ]
  },
  {
   "cell_type": "code",
   "execution_count": 26,
   "metadata": {},
   "outputs": [],
   "source": [
    "# Split data into train, validation and test sets\n",
    "TEST_SIZE = 0.2\n",
    "VAL_SIZE = 0.1\n",
    "\n",
    "X_train, X_test, y_train, y_test = train_test_split(X, y, test_size=TEST_SIZE)\n",
    "X_train, X_val, y_train, y_val = train_test_split(X_train, y_train, test_size=VAL_SIZE)\n"
   ]
  },
  {
   "cell_type": "code",
   "execution_count": 27,
   "metadata": {},
   "outputs": [],
   "source": [
    "num = len(X_train.columns)\n",
    "\n",
    "categorical = [num-1]\n",
    "numerical = [i for i in range(num-1)]\n",
    "\n",
    "scaler = ColumnTransformer([\n",
    "    ('num', StandardScaler(), numerical),\n",
    "    ('cat', OrdinalEncoder(), categorical)\n",
    "])\n",
    "\n",
    "X_train = scaler.fit_transform(X_train)\n",
    "X_test = scaler.transform(X_test)\n",
    "X_val = scaler.transform(X_val)\n"
   ]
  },
  {
   "cell_type": "code",
   "execution_count": 33,
   "metadata": {},
   "outputs": [
    {
     "data": {
      "text/plain": [
       "(12513, 3476, 1391)"
      ]
     },
     "execution_count": 33,
     "metadata": {},
     "output_type": "execute_result"
    }
   ],
   "source": [
    "len(X_train), len(X_test), len(X_val)"
   ]
  },
  {
   "cell_type": "code",
   "execution_count": 34,
   "metadata": {},
   "outputs": [
    {
     "data": {
      "text/plain": [
       "(12513, 3476, 1391)"
      ]
     },
     "execution_count": 34,
     "metadata": {},
     "output_type": "execute_result"
    }
   ],
   "source": [
    "len(y_train), len(y_test), len(y_val)"
   ]
  },
  {
   "cell_type": "markdown",
   "metadata": {},
   "source": [
    "### Trying SVC\n",
    "\n",
    "<!-- figure here from figures/img.jpeg -->\n",
    "# ![SVC Visualization](figures/img.jpeg)\n"
   ]
  },
  {
   "cell_type": "code",
   "execution_count": 35,
   "metadata": {},
   "outputs": [
    {
     "name": "stdout",
     "output_type": "stream",
     "text": [
      "Training SVC with grid search...\n"
     ]
    },
    {
     "name": "stderr",
     "output_type": "stream",
     "text": [
      "C parameter: 100%|██████████| 1/1 [00:10<00:00, 10.62s/it]\n"
     ]
    },
    {
     "name": "stdout",
     "output_type": "stream",
     "text": [
      "\n",
      "Best parameters: C=10, gamma=0.1\n",
      "\n",
      "Classification Report:\n",
      "              precision    recall  f1-score   support\n",
      "\n",
      "           0       0.71      0.75      0.73      1744\n",
      "           1       0.73      0.69      0.71      1732\n",
      "\n",
      "    accuracy                           0.72      3476\n",
      "   macro avg       0.72      0.72      0.72      3476\n",
      "weighted avg       0.72      0.72      0.72      3476\n",
      "\n",
      "\n",
      "Confusion Matrix:\n",
      "[[1305  439]\n",
      " [ 541 1191]]\n"
     ]
    }
   ],
   "source": [
    "# Apply PCA\n",
    "pca = PCA(0.9)  # Keep 90% of variance\n",
    "X_train = pca.fit_transform(X_train)\n",
    "X_test = pca.transform(X_test)\n",
    "X_val = pca.transform(X_val)\n",
    "\n",
    "# Grid search for best parameters\n",
    "print(\"Training SVC with grid search...\")\n",
    "best_c = 0\n",
    "best_gamma = 0\n",
    "highest_score = 0\n",
    "\n",
    "# NOTE: Through Previous Testing (as in SS, we concluded that gamma = 0.1 is the best)\n",
    "C_range = [10] \n",
    "gamma_range = [0.1]\n",
    "\n",
    "for c in tqdm(C_range, desc=\"C parameter\"):\n",
    "    for gamma in gamma_range:\n",
    "        svc = SVC(kernel='rbf', gamma=gamma, C=c, probability=True)\n",
    "        svc.fit(X_train, y_train)\n",
    "        score = accuracy_score(y_val, svc.predict(X_val))\n",
    "        if score > highest_score:\n",
    "            best_c = c\n",
    "            best_gamma = gamma\n",
    "            highest_score = score\n",
    "\n",
    "# Train final model with best parameters\n",
    "print(f\"\\nBest parameters: C={best_c}, gamma={best_gamma}\")\n",
    "final_model = SVC(kernel='rbf', gamma=best_gamma, C=best_c, probability=True)\n",
    "final_model.fit(X_train, y_train)\n",
    "\n",
    "# Make predictions\n",
    "y_pred = final_model.predict(X_test)\n",
    "\n",
    "print(\"\\nClassification Report:\")\n",
    "print(classification_report(y_test, y_pred))\n",
    "print(\"\\nConfusion Matrix:\")\n",
    "print(confusion_matrix(y_test, y_pred))\n"
   ]
  },
  {
   "cell_type": "markdown",
   "metadata": {},
   "source": [
    "### Trying KNN"
   ]
  },
  {
   "cell_type": "code",
   "execution_count": 36,
   "metadata": {},
   "outputs": [
    {
     "name": "stdout",
     "output_type": "stream",
     "text": [
      "Training KNN...\n"
     ]
    },
    {
     "name": "stderr",
     "output_type": "stream",
     "text": [
      "k parameter: 100%|██████████| 25/25 [00:00<00:00, 26.52it/s]\n"
     ]
    },
    {
     "name": "stdout",
     "output_type": "stream",
     "text": [
      "\n",
      "Best k value: 17\n",
      "\n",
      "Classification Report:\n",
      "              precision    recall  f1-score   support\n",
      "\n",
      "           0       0.70      0.74      0.72      1744\n",
      "           1       0.72      0.67      0.70      1732\n",
      "\n",
      "    accuracy                           0.71      3476\n",
      "   macro avg       0.71      0.71      0.71      3476\n",
      "weighted avg       0.71      0.71      0.71      3476\n",
      "\n",
      "\n",
      "Confusion Matrix:\n",
      "[[1291  453]\n",
      " [ 565 1167]]\n"
     ]
    }
   ],
   "source": [
    "# Apply KNN classifier\n",
    "from sklearn.neighbors import KNeighborsClassifier\n",
    "\n",
    "\n",
    "print(\"Training KNN...\")\n",
    "\n",
    "# Grid search for best k\n",
    "k_range = range(1, 50, 2)\n",
    "best_k = 0\n",
    "best_score = 0\n",
    "\n",
    "for k in tqdm(k_range, desc=\"k parameter\"):\n",
    "    knn = KNeighborsClassifier(n_neighbors=k)\n",
    "    knn.fit(X_train, y_train)\n",
    "    score = accuracy_score(y_val, knn.predict(X_val))\n",
    "    if score > best_score:\n",
    "        best_k = k\n",
    "        best_score = score\n",
    "\n",
    "print(f\"\\nBest k value: {best_k}\")\n",
    "\n",
    "# Train final model with best k\n",
    "final_knn = KNeighborsClassifier(n_neighbors=best_k)\n",
    "final_knn.fit(X_train, y_train)\n",
    "\n",
    "# Make predictions\n",
    "y_pred_knn = final_knn.predict(X_test)\n",
    "\n",
    "print(\"\\nClassification Report:\")\n",
    "print(classification_report(y_test, y_pred_knn))\n",
    "print(\"\\nConfusion Matrix:\")\n",
    "print(confusion_matrix(y_test, y_pred_knn))\n"
   ]
  },
  {
   "cell_type": "code",
   "execution_count": null,
   "metadata": {},
   "outputs": [],
   "source": []
  }
 ],
 "metadata": {
  "kernelspec": {
   "display_name": "py312",
   "language": "python",
   "name": "python3"
  },
  "language_info": {
   "codemirror_mode": {
    "name": "ipython",
    "version": 3
   },
   "file_extension": ".py",
   "mimetype": "text/x-python",
   "name": "python",
   "nbconvert_exporter": "python",
   "pygments_lexer": "ipython3",
   "version": "3.12.9"
  }
 },
 "nbformat": 4,
 "nbformat_minor": 2
}
